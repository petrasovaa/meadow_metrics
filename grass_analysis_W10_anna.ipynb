{
 "cells": [
  {
   "cell_type": "markdown",
   "metadata": {},
   "source": [
    "### GRASS analysis for Windows 10 version"
   ]
  },
  {
   "cell_type": "markdown",
   "metadata": {},
   "source": [
    "## Setup"
   ]
  },
  {
   "cell_type": "code",
   "execution_count": null,
   "metadata": {},
   "outputs": [],
   "source": [
    "import geopandas as gpd\n",
    "import pandas as pd\n",
    "import altair as alt\n",
    "import subprocess\n",
    "import shapely\n",
    "import folium\n",
    "import sys\n",
    "import os\n",
    "import io\n",
    "import sys\n",
    "import shutil"
   ]
  },
  {
   "cell_type": "code",
   "execution_count": null,
   "metadata": {},
   "outputs": [],
   "source": [
    "#print(f\"GDAL version: {gdal.__version__}\")\n",
    "import sys\n",
    "print(f\"python version:{sys.version[:6]}\")"
   ]
  },
  {
   "cell_type": "code",
   "execution_count": null,
   "metadata": {},
   "outputs": [],
   "source": [
    "# Ask GRASS GIS where its Python packages are.\n",
    "import subprocess\n",
    "grass_binary = \"/home/anna/dev/grass/grass/bin.x86_64-pc-linux-gnu/grass\"\n",
    "sys.path.append(\n",
    "    subprocess.check_output([grass_binary, \"--config\", \"python_path\"], text=True).strip()\n",
    ")\n",
    "# Import the GRASS GIS packages we need.\n",
    "import grass.script as gs\n",
    "import grass.jupyter as gj"
   ]
  },
  {
   "cell_type": "code",
   "execution_count": null,
   "metadata": {},
   "outputs": [],
   "source": [
    "os.chdir(\"data\")\n",
    "os.getcwd()"
   ]
  },
  {
   "cell_type": "code",
   "execution_count": null,
   "metadata": {},
   "outputs": [],
   "source": [
    "!pwd\n",
    "!/home/anna/dev/grass/grass/bin.x86_64-pc-linux-gnu/grass -c dtm_clipped.tif -e /home/anna/grassdata/mentoring"
   ]
  },
  {
   "cell_type": "code",
   "execution_count": null,
   "metadata": {},
   "outputs": [],
   "source": [
    "session = gj.init(\"/home/anna/grassdata/mentoring\")"
   ]
  },
  {
   "cell_type": "code",
   "execution_count": null,
   "metadata": {},
   "outputs": [],
   "source": [
    "!g.extension v.transects\n",
    "!g.extension r.stream.distance\n",
    "!g.extension r.accumulate"
   ]
  },
  {
   "cell_type": "markdown",
   "metadata": {},
   "source": [
    "## Analysis"
   ]
  },
  {
   "cell_type": "markdown",
   "metadata": {},
   "source": [
    "### Channel"
   ]
  },
  {
   "cell_type": "code",
   "execution_count": null,
   "metadata": {},
   "outputs": [],
   "source": [
    "gs.run_command(\"r.external\", input=\"dtm_clipped.tif\", out=\"dtm\")\n",
    "gs.run_command(\"r.colors\", map=\"dtm\", color=\"elevation\")"
   ]
  },
  {
   "cell_type": "code",
   "execution_count": null,
   "metadata": {},
   "outputs": [],
   "source": [
    "map = gj.Map()\n",
    "map.d_rast(map='dtm')\n",
    "map.show()"
   ]
  },
  {
   "cell_type": "code",
   "execution_count": null,
   "metadata": {},
   "outputs": [],
   "source": [
    "gs.run_command(\"r.stream.extract\", elevation=\"dtm\", threshold=500,\n",
    "                mexp=0.5, stream_length=500, memory=100000, stream_raster=\"stream_r\",\n",
    "                direction=\"direction_r\", stream_vector=\"stream_vect\")"
   ]
  },
  {
   "cell_type": "code",
   "execution_count": null,
   "metadata": {},
   "outputs": [],
   "source": [
    "map = gj.Map()\n",
    "map.d_rast(map='direction_r')\n",
    "map.d_vect(map='stream_vect', color=\"red\", width=2)\n",
    "map.show()"
   ]
  },
  {
   "cell_type": "code",
   "execution_count": null,
   "metadata": {},
   "outputs": [],
   "source": [
    "gs.run_command(\"r.accumulate\", direction=\"direction_r\", format=\"auto\", accumulation=\"accum\",\n",
    "               outlet=\"stream_vect\", longest_flow_path=\"longest_stream\")"
   ]
  },
  {
   "cell_type": "code",
   "execution_count": null,
   "metadata": {},
   "outputs": [],
   "source": [
    "map = gj.Map()\n",
    "map.d_rast(map='accum')\n",
    "map.d_vect(map='longest_stream', color=\"blue\")\n",
    "map.show()\n"
   ]
  },
  {
   "cell_type": "code",
   "execution_count": null,
   "metadata": {},
   "outputs": [],
   "source": [
    "gs.run_command(\"r.stream.order\", stream_rast=\"stream_r\", accumulation=\"accum\", direction=\"direction_r\",\n",
    "                elevation=\"dtm\", hack=\"stream_hack\", stream_vect=\"stream_v\")"
   ]
  },
  {
   "cell_type": "code",
   "execution_count": null,
   "metadata": {},
   "outputs": [],
   "source": [
    "map = gj.Map()\n",
    "map.d_rast(map='accum')\n",
    "map.d_rast(map='stream_hack')\n",
    "map.show()"
   ]
  },
  {
   "cell_type": "code",
   "execution_count": null,
   "metadata": {},
   "outputs": [],
   "source": [
    "# derive main channel\n",
    "gs.mapcalc(\"main_channel = if(stream_hack != 1, null(), 1)\")\n",
    "gs.run_command(\"r.to.vect\", input=\"main_channel\", output=\"mc_vect\", type=\"line\")\n",
    "# get rid of an artifact during vectorization (removes lines smaller than 1 m)\n",
    "gs.run_command(\"v.edit\", map=\"mc_vect\", type=\"line\", tool=\"delete\", threshold=\"-1,0,-1\", query=\"length\")\n",
    "gs.run_command(\"v.build.polylines\", input=\"mc_vect\", output=\"polylines\", cats=\"first\")"
   ]
  },
  {
   "cell_type": "code",
   "execution_count": null,
   "metadata": {},
   "outputs": [],
   "source": [
    "map = gj.Map()\n",
    "map.d_rast(map='dtm')\n",
    "map.d_vect(map='polylines')\n",
    "map.show()"
   ]
  },
  {
   "cell_type": "code",
   "execution_count": null,
   "metadata": {},
   "outputs": [],
   "source": [
    "# get longest channel\n",
    "lengths = gs.read_command(\"v.to.db\", flags=\"p\", map=\"polylines\", type=\"line\", option=\"length\", columns=\"aa\", separator=\",\")\n",
    "df = pd.read_csv(io.StringIO(lengths))\n",
    "cat = df.iloc[df['length'].idxmax(), 0]\n",
    "gs.run_command(\"v.extract\", input=\"polylines\", output=\"plong\", cat=cat)"
   ]
  },
  {
   "cell_type": "code",
   "execution_count": null,
   "metadata": {},
   "outputs": [],
   "source": [
    "map = gj.Map()\n",
    "map.d_rast(map='dtm')\n",
    "map.d_vect(map='plong')\n",
    "map.show()"
   ]
  },
  {
   "cell_type": "code",
   "execution_count": null,
   "metadata": {},
   "outputs": [],
   "source": [
    "gs.run_command(\"v.generalize\", input=\"plong\", type=\"line\", method=\"snakes\", threshold=1, output=\"plong_simp\")"
   ]
  },
  {
   "cell_type": "markdown",
   "metadata": {},
   "source": [
    "### Transects"
   ]
  },
  {
   "cell_type": "code",
   "execution_count": null,
   "metadata": {},
   "outputs": [],
   "source": [
    "gs.run_command(\"r.stream.distance\", stream_rast=\"stream_r\", direction=\"direction_r\", elevation=\"dtm\", difference=\"hand\")"
   ]
  },
  {
   "cell_type": "code",
   "execution_count": null,
   "metadata": {},
   "outputs": [],
   "source": [
    "gs.run_command(\"v.transects\", input=\"plong_simp\", output=\"transects\",\n",
    "               transect_spacing=10, transect_perpendicular=\"trend\")\n",
    "gs.run_command(\"v.to.points\", input=\"transects\", out=\"points\", use=\"vertex\")\n",
    "\n",
    "result = gs.read_command(\"v.out.ascii\", input=\"points\", separator=\",\")\n",
    "df = pd.DataFrame([row.rsplit(',',1) for row in result.splitlines()],\n",
    "                  columns=[\"coors\",\"cat\"])\n",
    "df = df.groupby('cat')['coors'].apply(','.join).reset_index()\n",
    "df = df.astype({\"cat\": int}).sort_values(by=['cat'], ignore_index=True)\n",
    "df"
   ]
  },
  {
   "cell_type": "code",
   "execution_count": null,
   "metadata": {},
   "outputs": [],
   "source": [
    "html = []\n",
    "for index, row in df.iterrows():\n",
    "    profile = gs.read_command(\"r.profile\", input=\"hand\",\n",
    "                              coordinates=(row[\"coors\"]))\n",
    "    profile_df = pd.DataFrame([row.split() for row in profile.splitlines()],\n",
    "                              columns=[\"distance_(m)\", \"elevation_(m)\"]).apply(pd.to_numeric, errors='coerce')\n",
    "    line = alt.Chart(profile_df).mark_line().encode(\n",
    "        alt.X('distance_(m)'),\n",
    "        alt.Y('elevation_(m):Q',scale=alt.Scale(zero=False))\n",
    "    ).properties(width=600,height=100)\n",
    "    test = line.to_dict()\n",
    "    #vega_lite = folium.VegaLite(line, width='100%',height='100%')\n",
    "    html.append(test)"
   ]
  },
  {
   "cell_type": "code",
   "execution_count": null,
   "metadata": {},
   "outputs": [],
   "source": [
    "gs.run_command(\"v.out.ogr\", input=\"transects\", output=\"transects.geojson\", format=\"GeoJSON\")\n",
    "trnscts = gpd.read_file('transects.geojson').to_crs(4326)\n",
    "trnscts['html'] = html"
   ]
  },
  {
   "cell_type": "code",
   "execution_count": null,
   "metadata": {},
   "outputs": [],
   "source": [
    "gs.run_command(\"r.geomorphon\", forms=\"forms\", elevation=\"dtm\", search=10, skip=3, flat=2.5)"
   ]
  },
  {
   "cell_type": "markdown",
   "metadata": {},
   "source": [
    "## Visualization"
   ]
  },
  {
   "cell_type": "code",
   "execution_count": null,
   "metadata": {},
   "outputs": [],
   "source": [
    "gs.run_command(\"v.in.ogr\", input=\"meadow_extent.geojson\", output=\"meadow_extent\")\n",
    "meadow_extent = gs.parse_command(\"g.region\", vector=\"meadow_extent\", flags=\"ucgl\")\n",
    "loc = (float(meadow_extent[\"center_long\"]), float(meadow_extent[\"center_lat\"]))"
   ]
  },
  {
   "cell_type": "code",
   "execution_count": null,
   "metadata": {},
   "outputs": [],
   "source": [
    "m = folium.Map(location=[loc[1], loc[0]], zoom_start=14, max_zoom=20)\n",
    "gj.Raster('forms').add_to(m)\n",
    "gj.Raster('hand').add_to(m) #add HAND\n",
    "gj.Raster('dtm').add_to(m)\n",
    "gj.Vector('plong_simp').add_to(m)\n",
    "gj.Vector('meadow_extent').add_to(m)\n",
    "\n",
    "fg =folium.FeatureGroup(name='Transects').add_to(m)\n",
    "for _, s in trnscts.iterrows():\n",
    "    graph = s['html']\n",
    "    coords = list(s['geometry'].coords)\n",
    "    ttip = s['cat']\n",
    "\n",
    "    geo_data={\"type\":\"Polygon\",\"coordinates\":[coords]}\n",
    "    geo_obj=folium.GeoJson(geo_data, style_function=lambda x:{'color':'gray','weight':4,'dashArray':\"2,2\"},\n",
    "                            highlight_function=lambda x:{'color':'yellow','weight':8},\n",
    "                            tooltip=folium.Tooltip(ttip),\n",
    "                            popup=folium.Popup().add_child(folium.VegaLite(graph,width=\"100%\")),\n",
    "                            #popup_keep_highlighted=True, #needs python 3.9?\n",
    "                            )\n",
    "    geo_obj.add_child(folium.Popup(max_width=500).add_child(folium.VegaLite(graph)))\n",
    "    geo_obj.add_to(fg)\n",
    "m.add_child(folium.LayerControl())\n",
    "m"
   ]
  },
  {
   "cell_type": "code",
   "execution_count": null,
   "metadata": {},
   "outputs": [],
   "source": [
    "#save folium map as an html object for sharing\n",
    "m.save('lacey_meadow.html')"
   ]
  }
 ],
 "metadata": {
  "kernelspec": {
   "display_name": "Python 3 (ipykernel)",
   "language": "python",
   "name": "python3"
  },
  "language_info": {
   "codemirror_mode": {
    "name": "ipython",
    "version": 3
   },
   "file_extension": ".py",
   "mimetype": "text/x-python",
   "name": "python",
   "nbconvert_exporter": "python",
   "pygments_lexer": "ipython3",
   "version": "3.8.13"
  }
 },
 "nbformat": 4,
 "nbformat_minor": 4
}
